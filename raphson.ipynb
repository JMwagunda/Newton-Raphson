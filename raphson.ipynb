{
 "cells": [
  {
   "cell_type": "code",
   "execution_count": 1,
   "metadata": {},
   "outputs": [
    {
     "name": "stdout",
     "output_type": "stream",
     "text": [
      "Iteration number is: 1\n",
      "Iteration number is: 2\n",
      "Iteration number is: 3\n",
      "Iteration number is: 4\n",
      "Iteration number is: 5\n",
      "Iteration number is: 6\n",
      "Iteration number is: 7\n",
      "Iteration number is: 8\n",
      "Root found at x = 2.094551\n",
      "Time tacken is:  0.04236920000000133\n"
     ]
    }
   ],
   "source": [
    "import timeit\n",
    "\n",
    "def f(x):\n",
    "    return x**3 - 2*x - 5\n",
    "def df(x):\n",
    "    return 3*x**2 - 2\n",
    "\n",
    "x0 = 1\n",
    "tolerance = 1e-6\n",
    "max_iterations = 100\n",
    "\n",
    "for i in range(max_iterations):\n",
    "    fx = f(x0)\n",
    "    dfx = df(x0)\n",
    "    \n",
    "    x1 = x0 - (fx / dfx)\n",
    "    \n",
    "    print(f\"Iteration number is: {i+1}\")\n",
    "    \n",
    "    if abs(f(x1)) < tolerance:\n",
    "        print(f\"Root found at x = {x1:.6f}\")\n",
    "        print(\"Time tacken is: \", timeit.timeit())\n",
    "        break\n",
    "    else:\n",
    "        x0 = x1\n",
    "        "
   ]
  },
  {
   "cell_type": "code",
   "execution_count": null,
   "metadata": {},
   "outputs": [],
   "source": []
  }
 ],
 "metadata": {
  "kernelspec": {
   "display_name": "base",
   "language": "python",
   "name": "python3"
  },
  "language_info": {
   "codemirror_mode": {
    "name": "ipython",
    "version": 3
   },
   "file_extension": ".py",
   "mimetype": "text/x-python",
   "name": "python",
   "nbconvert_exporter": "python",
   "pygments_lexer": "ipython3",
   "version": "3.9.7"
  },
  "orig_nbformat": 4
 },
 "nbformat": 4,
 "nbformat_minor": 2
}
